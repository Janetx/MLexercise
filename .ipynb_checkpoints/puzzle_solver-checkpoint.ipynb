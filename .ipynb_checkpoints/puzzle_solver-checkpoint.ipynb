{
 "cells": [
  {
   "cell_type": "code",
   "execution_count": 2,
   "metadata": {},
   "outputs": [],
   "source": [
    "from kanren import *\n",
    "from kanren.core import lall"
   ]
  },
  {
   "cell_type": "code",
   "execution_count": 3,
   "metadata": {},
   "outputs": [],
   "source": [
    "# Declare the variable\n",
    "people = var()"
   ]
  },
  {
   "cell_type": "code",
   "execution_count": 20,
   "metadata": {},
   "outputs": [],
   "source": [
    "# Define the rules\n",
    "rules = lall(\n",
    "    # There are 4 people\n",
    "    (eq, (var(), var(), var(), var()), people),\n",
    "    # Steve's car is blue\n",
    "    (membero, ('Steve', var(), 'blue', var()), people),\n",
    "    # Person who has a cat lives in Canada\n",
    "    (membero, (var(), 'cat', var(), 'Canada'), people),\n",
    "    # Matthew lives in USA\n",
    "    (membero, ('Matthew', var(), var(), 'USA'), people),\n",
    "    # The person who has a black car lives in Australia\n",
    "    (membero, (var(), var(), 'black', 'Australia'), people),\n",
    "    # Jack has a cat\n",
    "    (membero, ('Jack', 'cat', var(), var()), people),\n",
    "    # Alfred lives in Australia\n",
    "    (membero, ('Alfred', var(), var(), 'Australia'), people),\n",
    "    # Person who owns the dog lives in France\n",
    "    (membero, (var(), 'dog', var(), 'France'), people),\n",
    "    # Who has a rabbit?\n",
    "    (membero, (var(), 'rabbit', var(), var()), people)\n",
    "    )"
   ]
  },
  {
   "cell_type": "code",
   "execution_count": 21,
   "metadata": {},
   "outputs": [],
   "source": [
    "# Run the solver\n",
    "solutions = run(0, people, rules)"
   ]
  },
  {
   "cell_type": "code",
   "execution_count": 22,
   "metadata": {},
   "outputs": [],
   "source": [
    "# Extract the output\n",
    "output = [house for house in solutions[0] if 'rabbit' in house][0][0]"
   ]
  },
  {
   "cell_type": "code",
   "execution_count": 24,
   "metadata": {},
   "outputs": [
    {
     "name": "stdout",
     "output_type": "stream",
     "text": [
      "\n",
      "Matthew is the owner of the rabbit\n",
      "\n",
      "Here are all the details:\n",
      "\n",
      "Name\t\tPet\t\tColor\t\tCountry\n",
      "=========================================================\n",
      "\n",
      "Steve\t\tdog\t\tblue\t\tFrance\n",
      "\n",
      "Jack\t\tcat\t\t~_30\t\tCanada\n",
      "\n",
      "Matthew\t\trabbit\t\t~_32\t\tUSA\n",
      "\n",
      "Alfred\t\t~_34\t\tblack\t\tAustralia\n"
     ]
    }
   ],
   "source": [
    "# Print the output\n",
    "print('\\n' + output + ' is the owner of the rabbit')\n",
    "print('\\nHere are all the details:')\n",
    "attribs = ['Name', 'Pet', 'Color', 'Country']\n",
    "print('\\n' + '\\t\\t'.join(attribs))\n",
    "print('=' * 57)\n",
    "for item in solutions[0]:\n",
    "    print('')\n",
    "    print('\\t\\t'.join([str(x) for x in item]))"
   ]
  },
  {
   "cell_type": "code",
   "execution_count": null,
   "metadata": {},
   "outputs": [],
   "source": []
  },
  {
   "cell_type": "code",
   "execution_count": null,
   "metadata": {},
   "outputs": [],
   "source": []
  },
  {
   "cell_type": "code",
   "execution_count": null,
   "metadata": {},
   "outputs": [],
   "source": []
  },
  {
   "cell_type": "code",
   "execution_count": null,
   "metadata": {},
   "outputs": [],
   "source": []
  },
  {
   "cell_type": "code",
   "execution_count": null,
   "metadata": {},
   "outputs": [],
   "source": []
  },
  {
   "cell_type": "code",
   "execution_count": null,
   "metadata": {},
   "outputs": [],
   "source": []
  },
  {
   "cell_type": "code",
   "execution_count": null,
   "metadata": {},
   "outputs": [],
   "source": []
  },
  {
   "cell_type": "code",
   "execution_count": null,
   "metadata": {},
   "outputs": [],
   "source": []
  },
  {
   "cell_type": "code",
   "execution_count": null,
   "metadata": {},
   "outputs": [],
   "source": []
  },
  {
   "cell_type": "code",
   "execution_count": null,
   "metadata": {},
   "outputs": [],
   "source": []
  },
  {
   "cell_type": "code",
   "execution_count": null,
   "metadata": {},
   "outputs": [],
   "source": []
  },
  {
   "cell_type": "code",
   "execution_count": null,
   "metadata": {},
   "outputs": [],
   "source": []
  },
  {
   "cell_type": "code",
   "execution_count": null,
   "metadata": {},
   "outputs": [],
   "source": []
  },
  {
   "cell_type": "code",
   "execution_count": null,
   "metadata": {},
   "outputs": [],
   "source": []
  },
  {
   "cell_type": "code",
   "execution_count": null,
   "metadata": {},
   "outputs": [],
   "source": []
  }
 ],
 "metadata": {
  "kernelspec": {
   "display_name": "Python 3",
   "language": "python",
   "name": "python3"
  },
  "language_info": {
   "codemirror_mode": {
    "name": "ipython",
    "version": 3
   },
   "file_extension": ".py",
   "mimetype": "text/x-python",
   "name": "python",
   "nbconvert_exporter": "python",
   "pygments_lexer": "ipython3",
   "version": "3.6.5"
  }
 },
 "nbformat": 4,
 "nbformat_minor": 2
}
