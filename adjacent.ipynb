{
 "cells": [
  {
   "cell_type": "code",
   "execution_count": 1,
   "metadata": {},
   "outputs": [],
   "source": [
    "from kanren import run, fact, eq, Relation, var"
   ]
  },
  {
   "cell_type": "code",
   "execution_count": 2,
   "metadata": {},
   "outputs": [],
   "source": [
    "adjacent = Relation()\n",
    "coastal = Relation()"
   ]
  },
  {
   "cell_type": "code",
   "execution_count": 3,
   "metadata": {},
   "outputs": [],
   "source": [
    "file_coastal = 'coastal_states.txt'\n",
    "file_adjacent = 'adjacent_states.txt'"
   ]
  },
  {
   "cell_type": "code",
   "execution_count": 4,
   "metadata": {},
   "outputs": [],
   "source": [
    "# Read the file containing the coastal states\n",
    "with open(file_coastal, 'r') as f:\n",
    "    line = f.read()\n",
    "    coastal_states = line.split(',')"
   ]
  },
  {
   "cell_type": "code",
   "execution_count": 5,
   "metadata": {},
   "outputs": [],
   "source": [
    "# Add the info to the fact base\n",
    "for state in coastal_states:\n",
    "    fact(coastal, state)"
   ]
  },
  {
   "cell_type": "code",
   "execution_count": 6,
   "metadata": {},
   "outputs": [],
   "source": [
    "# Read the file containing the coastal states\n",
    "with open(file_adjacent, 'r') as f:\n",
    "    adjlist = [line.strip().split(',') for line in f if line and\n",
    "line[0].isalpha()]"
   ]
  },
  {
   "cell_type": "code",
   "execution_count": 7,
   "metadata": {},
   "outputs": [],
   "source": [
    "# Add the info to the fact base\n",
    "for L in adjlist:\n",
    "    head, tail = L[0], L[1:]\n",
    "    for state in tail:\n",
    "        fact(adjacent, head, state)"
   ]
  },
  {
   "cell_type": "code",
   "execution_count": 8,
   "metadata": {},
   "outputs": [],
   "source": [
    "# Initialize the variables\n",
    "x = var()\n",
    "y = var()"
   ]
  },
  {
   "cell_type": "code",
   "execution_count": 9,
   "metadata": {},
   "outputs": [
    {
     "name": "stdout",
     "output_type": "stream",
     "text": [
      "\n",
      "Is Nevada adjacent to Louisiana?:\n",
      "No\n"
     ]
    }
   ],
   "source": [
    "# Is Nevada adjacent to Louisiana?\n",
    "output = run(0, x, adjacent('Nevada', 'Louisiana'))\n",
    "print('\\nIs Nevada adjacent to Louisiana?:')\n",
    "print('Yes' if len(output) else 'No')"
   ]
  },
  {
   "cell_type": "code",
   "execution_count": 10,
   "metadata": {
    "scrolled": true
   },
   "outputs": [
    {
     "name": "stdout",
     "output_type": "stream",
     "text": [
      "\n",
      "List of states adjacent to Oregon:\n",
      "Washington\n",
      "Nevada\n",
      "California\n",
      "Idaho\n"
     ]
    }
   ],
   "source": [
    "# States adjacent to Oregon\n",
    "output = run(0, x, adjacent('Oregon', x))\n",
    "print('\\nList of states adjacent to Oregon:')\n",
    "for item in output:\n",
    "    print(item)"
   ]
  },
  {
   "cell_type": "code",
   "execution_count": 11,
   "metadata": {},
   "outputs": [
    {
     "name": "stdout",
     "output_type": "stream",
     "text": [
      "\n",
      "List of coastal states adjacent to Mississippi:\n",
      "Alabama\n",
      "Louisiana\n"
     ]
    }
   ],
   "source": [
    "# States adjacent to Mississippi that are coastal\n",
    "output = run(0, x, adjacent('Mississippi', x), coastal(x))\n",
    "print('\\nList of coastal states adjacent to Mississippi:')\n",
    "for item in output:\n",
    "    print(item)"
   ]
  },
  {
   "cell_type": "code",
   "execution_count": 12,
   "metadata": {},
   "outputs": [
    {
     "name": "stdout",
     "output_type": "stream",
     "text": [
      "\n",
      "List of 7 states that border a coastal state:\n",
      "Idaho\n",
      "Wisconsin\n",
      "Washington\n",
      "Mississippi\n",
      "Pennsylvania\n",
      "Tennessee\n",
      "North Carolina\n"
     ]
    }
   ],
   "source": [
    "# List of 'n' states that border a coastal state\n",
    "n = 7\n",
    "output = run(n, x, coastal(y), adjacent(x, y))\n",
    "print('\\nList of ' + str(n) + ' states that border a coastal state:')\n",
    "for item in output:\n",
    "    print(item)"
   ]
  },
  {
   "cell_type": "code",
   "execution_count": 13,
   "metadata": {},
   "outputs": [
    {
     "name": "stdout",
     "output_type": "stream",
     "text": [
      "\n",
      "List of states that are adjacent to Arkansas and Kentucky:\n",
      "Missouri\n",
      "Tennessee\n"
     ]
    }
   ],
   "source": [
    "# List of states that adjacent to the two given states\n",
    "output = run(0, x, adjacent('Arkansas', x), adjacent('Kentucky', x))\n",
    "print('\\nList of states that are adjacent to Arkansas and Kentucky:')\n",
    "for item in output:\n",
    "    print(item)"
   ]
  },
  {
   "cell_type": "code",
   "execution_count": null,
   "metadata": {},
   "outputs": [],
   "source": []
  },
  {
   "cell_type": "code",
   "execution_count": null,
   "metadata": {},
   "outputs": [],
   "source": []
  },
  {
   "cell_type": "code",
   "execution_count": null,
   "metadata": {},
   "outputs": [],
   "source": []
  },
  {
   "cell_type": "code",
   "execution_count": null,
   "metadata": {},
   "outputs": [],
   "source": []
  },
  {
   "cell_type": "code",
   "execution_count": null,
   "metadata": {},
   "outputs": [],
   "source": []
  },
  {
   "cell_type": "code",
   "execution_count": null,
   "metadata": {},
   "outputs": [],
   "source": []
  },
  {
   "cell_type": "code",
   "execution_count": null,
   "metadata": {},
   "outputs": [],
   "source": []
  }
 ],
 "metadata": {
  "kernelspec": {
   "display_name": "Python 3",
   "language": "python",
   "name": "python3"
  },
  "language_info": {
   "codemirror_mode": {
    "name": "ipython",
    "version": 3
   },
   "file_extension": ".py",
   "mimetype": "text/x-python",
   "name": "python",
   "nbconvert_exporter": "python",
   "pygments_lexer": "ipython3",
   "version": "3.6.5"
  }
 },
 "nbformat": 4,
 "nbformat_minor": 2
}
