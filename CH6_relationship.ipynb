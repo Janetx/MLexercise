{
 "cells": [
  {
   "cell_type": "code",
   "execution_count": 1,
   "metadata": {},
   "outputs": [],
   "source": [
    "import json\n",
    "from kanren import Relation, facts, run, conde, var, eq"
   ]
  },
  {
   "cell_type": "code",
   "execution_count": 3,
   "metadata": {},
   "outputs": [],
   "source": [
    "# Check if 'x' is the parent of 'y'\n",
    "def parent(x, y):\n",
    "    return conde([father(x, y)], [mother(x, y)])"
   ]
  },
  {
   "cell_type": "code",
   "execution_count": 4,
   "metadata": {},
   "outputs": [],
   "source": [
    "# Check if 'x' is the grandparent of 'y'\n",
    "def grandparent(x, y):\n",
    "    temp = var()\n",
    "    return conde((parent(x, temp), parent(temp, y)))"
   ]
  },
  {
   "cell_type": "code",
   "execution_count": 5,
   "metadata": {},
   "outputs": [],
   "source": [
    "# Check for sibling relationship between 'a' and 'b'\n",
    "def sibling(x, y):\n",
    "    temp = var()\n",
    "    return conde((parent(temp, x), parent(temp, y)))"
   ]
  },
  {
   "cell_type": "code",
   "execution_count": 6,
   "metadata": {},
   "outputs": [],
   "source": [
    "# Check if x is y's uncle\n",
    "def uncle(x, y):\n",
    "    temp = var()\n",
    "    return conde((father(temp, x), grandparent(temp, y)))"
   ]
  },
  {
   "cell_type": "code",
   "execution_count": 7,
   "metadata": {},
   "outputs": [],
   "source": [
    "if __name__=='__main__':\n",
    "    father = Relation()\n",
    "    mother = Relation()"
   ]
  },
  {
   "cell_type": "code",
   "execution_count": 8,
   "metadata": {},
   "outputs": [],
   "source": [
    "with open('relationships.json') as f:\n",
    "    d = json.loads(f.read())"
   ]
  },
  {
   "cell_type": "code",
   "execution_count": 9,
   "metadata": {},
   "outputs": [],
   "source": [
    "for item in d['father']:\n",
    "    facts(father, (list(item.keys())[0], list(item.values())[0]))"
   ]
  },
  {
   "cell_type": "code",
   "execution_count": 10,
   "metadata": {},
   "outputs": [],
   "source": [
    "for item in d['mother']:\n",
    "    facts(mother, (list(item.keys())[0], list(item.values())[0]))"
   ]
  },
  {
   "cell_type": "code",
   "execution_count": 11,
   "metadata": {},
   "outputs": [],
   "source": [
    "x = var()"
   ]
  },
  {
   "cell_type": "code",
   "execution_count": 12,
   "metadata": {},
   "outputs": [
    {
     "name": "stdout",
     "output_type": "stream",
     "text": [
      "\n",
      "List of John's children:\n",
      "Adam\n",
      "William\n",
      "David\n"
     ]
    }
   ],
   "source": [
    "# John's children\n",
    "name = 'John'\n",
    "output = run(0, x, father(name, x))\n",
    "print(\"\\nList of \" + name + \"'s children:\")\n",
    "for item in output:\n",
    "    print(item)"
   ]
  },
  {
   "cell_type": "code",
   "execution_count": 13,
   "metadata": {},
   "outputs": [
    {
     "name": "stdout",
     "output_type": "stream",
     "text": [
      "\n",
      "William's mother:\n",
      "Megan\n"
     ]
    }
   ],
   "source": [
    "# William's mother\n",
    "name = 'William'\n",
    "output = run(0, x, mother(x, name))[0]\n",
    "print(\"\\n\" + name + \"'s mother:\\n\" + output)"
   ]
  },
  {
   "cell_type": "code",
   "execution_count": 14,
   "metadata": {},
   "outputs": [
    {
     "name": "stdout",
     "output_type": "stream",
     "text": [
      "\n",
      "List of Adam's parents:\n",
      "John\n",
      "Megan\n"
     ]
    }
   ],
   "source": [
    "# Adam's parents\n",
    "name = 'Adam'\n",
    "output = run(0, x, parent(x, name))\n",
    "print(\"\\nList of \" + name + \"'s parents:\")\n",
    "for item in output:\n",
    "    print(item)"
   ]
  },
  {
   "cell_type": "code",
   "execution_count": 15,
   "metadata": {},
   "outputs": [
    {
     "name": "stdout",
     "output_type": "stream",
     "text": [
      "\n",
      "List of Wayne's grandparents:\n",
      "John\n",
      "Megan\n"
     ]
    }
   ],
   "source": [
    "# Wayne's grandparents\n",
    "name = 'Wayne'\n",
    "output = run(0, x, grandparent(x, name))\n",
    "print(\"\\nList of \" + name + \"'s grandparents:\")\n",
    "for item in output:\n",
    "    print(item)"
   ]
  },
  {
   "cell_type": "code",
   "execution_count": 17,
   "metadata": {},
   "outputs": [
    {
     "name": "stdout",
     "output_type": "stream",
     "text": [
      "\n",
      "List of Megan's grandchildren:\n",
      "Stephanie\n",
      "Tiffany\n",
      "Sophia\n",
      "Chris\n",
      "Neil\n",
      "Peter\n",
      "Wayne\n",
      "Julie\n"
     ]
    }
   ],
   "source": [
    "# Megan's grandchildren\n",
    "name = 'Megan'\n",
    "output = run(0, x, grandparent(name, x))\n",
    "print(\"\\nList of \" + name + \"'s grandchildren:\")\n",
    "for item in output:\n",
    "    print(item)"
   ]
  },
  {
   "cell_type": "code",
   "execution_count": 18,
   "metadata": {},
   "outputs": [
    {
     "name": "stdout",
     "output_type": "stream",
     "text": [
      "\n",
      "List of David's siblings:\n",
      "Adam\n",
      "William\n"
     ]
    }
   ],
   "source": [
    "# David's siblings\n",
    "name = 'David'\n",
    "output = run(0, x, sibling(x, name))\n",
    "siblings = [x for x in output if x != name]\n",
    "print(\"\\nList of \" + name + \"'s siblings:\")\n",
    "for item in siblings:\n",
    "    print(item)"
   ]
  },
  {
   "cell_type": "code",
   "execution_count": 19,
   "metadata": {},
   "outputs": [
    {
     "name": "stdout",
     "output_type": "stream",
     "text": [
      "\n",
      "List of Tiffany's uncles:\n",
      "Adam\n",
      "William\n"
     ]
    }
   ],
   "source": [
    "# Tiffany's uncles\n",
    "name = 'Tiffany'\n",
    "name_father = run(0, x, father(x, name))[0]\n",
    "output = run(0, x, uncle(x, name))\n",
    "output = [x for x in output if x != name_father]\n",
    "print(\"\\nList of \" + name + \"'s uncles:\")\n",
    "for item in output:\n",
    "    print(item)"
   ]
  },
  {
   "cell_type": "code",
   "execution_count": 20,
   "metadata": {},
   "outputs": [
    {
     "name": "stdout",
     "output_type": "stream",
     "text": [
      "\n",
      "List of all spouses:\n",
      "Husband: David <==> Wife: Olivia\n",
      "Husband: William <==> Wife: Emma\n",
      "Husband: Adam <==> Wife: Lily\n",
      "Husband: John <==> Wife: Megan\n"
     ]
    }
   ],
   "source": [
    "# All spouses\n",
    "a, b, c = var(), var(), var()\n",
    "output = run(0, (a, b), (father, a, c), (mother, b, c))\n",
    "print(\"\\nList of all spouses:\")\n",
    "for item in output:\n",
    "    print('Husband:', item[0], '<==> Wife:', item[1])"
   ]
  },
  {
   "cell_type": "code",
   "execution_count": null,
   "metadata": {},
   "outputs": [],
   "source": []
  },
  {
   "cell_type": "code",
   "execution_count": null,
   "metadata": {},
   "outputs": [],
   "source": []
  },
  {
   "cell_type": "code",
   "execution_count": null,
   "metadata": {},
   "outputs": [],
   "source": []
  },
  {
   "cell_type": "code",
   "execution_count": null,
   "metadata": {},
   "outputs": [],
   "source": []
  },
  {
   "cell_type": "code",
   "execution_count": null,
   "metadata": {},
   "outputs": [],
   "source": []
  },
  {
   "cell_type": "code",
   "execution_count": null,
   "metadata": {},
   "outputs": [],
   "source": []
  },
  {
   "cell_type": "code",
   "execution_count": null,
   "metadata": {},
   "outputs": [],
   "source": []
  },
  {
   "cell_type": "code",
   "execution_count": null,
   "metadata": {},
   "outputs": [],
   "source": []
  },
  {
   "cell_type": "code",
   "execution_count": null,
   "metadata": {},
   "outputs": [],
   "source": []
  },
  {
   "cell_type": "code",
   "execution_count": null,
   "metadata": {},
   "outputs": [],
   "source": []
  },
  {
   "cell_type": "code",
   "execution_count": null,
   "metadata": {},
   "outputs": [],
   "source": []
  },
  {
   "cell_type": "code",
   "execution_count": null,
   "metadata": {},
   "outputs": [],
   "source": []
  }
 ],
 "metadata": {
  "kernelspec": {
   "display_name": "Python 3",
   "language": "python",
   "name": "python3"
  },
  "language_info": {
   "codemirror_mode": {
    "name": "ipython",
    "version": 3
   },
   "file_extension": ".py",
   "mimetype": "text/x-python",
   "name": "python",
   "nbconvert_exporter": "python",
   "pygments_lexer": "ipython3",
   "version": "3.6.5"
  }
 },
 "nbformat": 4,
 "nbformat_minor": 2
}
